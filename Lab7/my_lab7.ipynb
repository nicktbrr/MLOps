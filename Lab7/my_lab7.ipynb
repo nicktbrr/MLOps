{
 "cells": [
  {
   "cell_type": "markdown",
   "metadata": {},
   "source": [
    "gcloud services enable cloudresourcemanager.googleapis.com\\\n",
    "gcloud services enable compute.googleapis.com\\\n",
    "gcloud services enable servicenetworking.googleapis.com\\\n",
    "gcloud services enable sqladmin.googleapis.com\\\n",
    "gcloud services enable container.googleapis.com\\"
   ]
  },
  {
   "cell_type": "markdown",
   "metadata": {},
   "source": [
    "org_prefix = \"gcp_nicktbr_l7\"\n",
    "project = \"mlops-457804\"\n",
    "enable_argo=true"
   ]
  },
  {
   "cell_type": "markdown",
   "metadata": {},
   "source": [
    "terraform apply -target=\"module.infra\" -var-file=metaflow.tfvars\n",
    "\n",
    "if this fails delete service accounts and retry."
   ]
  },
  {
   "cell_type": "markdown",
   "metadata": {},
   "source": [
    "terraform apply -target=\"module.services\" -var-file=metaflow.tfvars"
   ]
  },
  {
   "cell_type": "markdown",
   "metadata": {},
   "source": [
    "gcloud components install gke-gcloud-auth-plugin"
   ]
  },
  {
   "cell_type": "markdown",
   "metadata": {},
   "source": [
    "gcloud auth application-default login"
   ]
  },
  {
   "cell_type": "markdown",
   "metadata": {},
   "source": [
    "7-04-2025 13:13:38 - Open deployment/argo-server at https://localhost:2746\n",
    "\n",
    "\n",
    "Access terraform here"
   ]
  },
  {
   "cell_type": "markdown",
   "metadata": {},
   "source": [
    "python metaflow-tools/scripts/forward_metaflow_ports.py --include-argo\n",
    "\n",
    "To start the server"
   ]
  },
  {
   "cell_type": "markdown",
   "metadata": {},
   "source": [
    "python classifier_train_more.py --environment=conda run\n",
    "\n",
    "\n",
    "Run the script\n"
   ]
  },
  {
   "cell_type": "markdown",
   "metadata": {},
   "source": []
  },
  {
   "cell_type": "markdown",
   "metadata": {},
   "source": []
  }
 ],
 "metadata": {
  "kernelspec": {
   "display_name": "mlops",
   "language": "python",
   "name": "python3"
  },
  "language_info": {
   "name": "python",
   "version": "3.11.11"
  }
 },
 "nbformat": 4,
 "nbformat_minor": 2
}
